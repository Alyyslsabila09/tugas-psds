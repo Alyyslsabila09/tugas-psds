{
  "nbformat": 4,
  "nbformat_minor": 0,
  "metadata": {
    "colab": {
      "provenance": []
    },
    "kernelspec": {
      "name": "python3",
      "display_name": "Python 3"
    },
    "language_info": {
      "name": "python"
    }
  },
  "cells": [
    {
      "cell_type": "code",
      "execution_count": null,
      "metadata": {
        "id": "ECO7fY56KXeB"
      },
      "outputs": [],
      "source": []
    },
    {
      "cell_type": "markdown",
      "source": [
        "Buatlah sebuah fungsi \"Mahal_Diskon\" dengan ketentuan:\n",
        "\n",
        "-Input berupa data harga produk dengan tipe data numerik Tunggal\n",
        "\n",
        "-Kategori Input adalah \"Murah\" dan \"Mahal\", kemudian diskon ada 3 kategori \"10%\", \"20%\", dan \"40\n",
        "\n",
        "-Output Pertama sebuah teks/string yang menyatakan \"Mahal\" atau \"Murah\" dan Keterangan \"Kamu Dapat Diskon ...\"%\"\n",
        "\n",
        "-Output Kedua adalah harga yang perlu dibayarkan\n",
        "\n"
      ],
      "metadata": {
        "id": "y8xDnXboKYiP"
      }
    },
    {
      "cell_type": "code",
      "source": [
        "def Mahal_Diskon(harga, kategori):\n",
        "    jenis = \"\"\n",
        "    diskon = 0\n",
        "    if kategori == \"Murah\":\n",
        "        jenis = \"Murah\"\n",
        "        diskon = 0.1\n",
        "    elif kategori == \"Mahal\":\n",
        "        jenis = \"Mahal\"\n",
        "        if harga >= 1000000:\n",
        "            diskon = 0.4\n",
        "        elif harga >= 500000:\n",
        "            diskon = 0.2\n",
        "        else:\n",
        "            diskon = 0.1\n",
        "    harga_bayar = harga * (1 - diskon)\n",
        "    print(jenis + \", Kamu Dapat Diskon \" + str(diskon * 100) + \"%\")\n",
        "    print(\"Harga yang Perlu Dibayar: \" + str(harga_bayar))\n",
        "\n",
        "\n",
        ""
      ],
      "metadata": {
        "id": "ccRLppoeKiQO"
      },
      "execution_count": 5,
      "outputs": []
    },
    {
      "cell_type": "markdown",
      "source": [
        "Berikut adalah contoh cara memanggil fungsi:"
      ],
      "metadata": {
        "id": "JonnFujYMwhl"
      }
    },
    {
      "cell_type": "code",
      "source": [
        "Mahal_Diskon(750000, \"Mahal\")"
      ],
      "metadata": {
        "colab": {
          "base_uri": "https://localhost:8080/"
        },
        "id": "gPHqHk-LMx4R",
        "outputId": "94aee6f7-1e95-4fa9-dadf-c65134d458b7"
      },
      "execution_count": 6,
      "outputs": [
        {
          "output_type": "stream",
          "name": "stdout",
          "text": [
            "Mahal, Kamu Dapat Diskon 20.0%\n",
            "Harga yang Perlu Dibayar: 600000.0\n"
          ]
        }
      ]
    },
    {
      "cell_type": "markdown",
      "source": [
        "Diberikan list tagihan hitunglah total_tagihan menggunakan while loop\n",
        "\n",
        "tagihan= [50000, 75000, 125000, 300000, 200000]\n"
      ],
      "metadata": {
        "id": "9Pvnej2RM2mh"
      }
    },
    {
      "cell_type": "code",
      "source": [
        "tagihan = [50000, 75000, 125000, 300000, 200000]\n",
        "total_tagihan = 0\n",
        "i = 0\n",
        "while i < len(tagihan):\n",
        "    total_tagihan += tagihan[i]\n",
        "    i += 1\n",
        "print(\"Total Tagihan: \", total_tagihan)"
      ],
      "metadata": {
        "colab": {
          "base_uri": "https://localhost:8080/"
        },
        "id": "Tnz6PIJENCWE",
        "outputId": "b1f28665-6451-49c3-e318-6da95a1fd147"
      },
      "execution_count": 7,
      "outputs": [
        {
          "output_type": "stream",
          "name": "stdout",
          "text": [
            "Total Tagihan:  750000\n"
          ]
        }
      ]
    }
  ]
}